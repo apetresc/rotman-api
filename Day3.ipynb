{
  "nbformat": 4,
  "nbformat_minor": 0,
  "metadata": {
    "colab": {
      "name": "Day 3.ipynb",
      "provenance": [],
      "collapsed_sections": [],
      "authorship_tag": "ABX9TyMYzAMV9YjwXdQHxPQiQ4pS",
      "include_colab_link": true
    },
    "kernelspec": {
      "name": "python3",
      "display_name": "Python 3"
    },
    "language_info": {
      "name": "python"
    }
  },
  "cells": [
    {
      "cell_type": "markdown",
      "metadata": {
        "id": "view-in-github",
        "colab_type": "text"
      },
      "source": [
        "<a href=\"https://colab.research.google.com/github/apetresc/rotman-api/blob/master/Day3.ipynb\" target=\"_parent\"><img src=\"https://colab.research.google.com/assets/colab-badge.svg\" alt=\"Open In Colab\"/></a>"
      ]
    },
    {
      "cell_type": "code",
      "metadata": {
        "id": "cBO5f7yqzhoT"
      },
      "source": [
        "import requests\n",
        "import matplotlib.pyplot as plt\n",
        "\n",
        "import random"
      ],
      "execution_count": null,
      "outputs": []
    },
    {
      "cell_type": "markdown",
      "metadata": {
        "id": "6cxP5Ts4zZq5"
      },
      "source": [
        "# Using APIs to Train Models"
      ]
    },
    {
      "cell_type": "code",
      "metadata": {
        "id": "eN9Bfd2czZq5"
      },
      "source": [
        "YELP_TOKEN = \"\""
      ],
      "execution_count": null,
      "outputs": []
    },
    {
      "cell_type": "code",
      "metadata": {
        "id": "suYK2H-PzZq5"
      },
      "source": [
        "r = requests.get(\"https://api.yelp.com/v3/businesses/search?location=Toronto&limit=50\", headers={\"Authorization\": \"Bearer %s\" % YELP_TOKEN})"
      ],
      "execution_count": null,
      "outputs": []
    },
    {
      "cell_type": "code",
      "metadata": {
        "id": "mkd-ARw1zZq5"
      },
      "source": [
        "print(r.status_code, r.reason, r.content)"
      ],
      "execution_count": null,
      "outputs": []
    },
    {
      "cell_type": "code",
      "metadata": {
        "id": "eY8Mtg1bzZq6"
      },
      "source": [
        "r.json()"
      ],
      "execution_count": null,
      "outputs": []
    },
    {
      "cell_type": "code",
      "metadata": {
        "id": "5KnhkHRqzZq6"
      },
      "source": [
        "review_labels = []\n",
        "for business in r.json()['businesses']:\n",
        "    reviews = requests.get(\"https://api.yelp.com/v3/businesses/%s/reviews\" % business['id'], headers={\"Authorization\": \"Bearer %s\" % YELP_TOKEN}).json()\n",
        "    for review in reviews['reviews']:\n",
        "        review_labels.append((review['text'].rstrip('.'), review['rating']))\n",
        "review_labels"
      ],
      "execution_count": null,
      "outputs": []
    },
    {
      "cell_type": "code",
      "metadata": {
        "id": "0iVY_BM0zZq6"
      },
      "source": [
        "review_features = [(x.split(' '), 'positive' if y > 3 else 'negative') for (x, y) in review_labels]\n",
        "review_features"
      ],
      "execution_count": null,
      "outputs": []
    },
    {
      "cell_type": "code",
      "metadata": {
        "id": "JbUwTJwzzZq7"
      },
      "source": [
        "from nltk.sentiment import SentimentAnalyzer\n",
        "import nltk.sentiment.util\n",
        "from nltk.classify import NaiveBayesClassifier\n",
        "\n",
        "random.shuffle(review_features)\n",
        "training_docs = review_features[:120]\n",
        "test_docs = review_features[120:]\n",
        "\n",
        "print(\"Training: %d, Testing: %d\" % (len(training_docs), len(test_docs)))\n",
        "\n",
        "sentim_analyzer = SentimentAnalyzer()"
      ],
      "execution_count": null,
      "outputs": []
    },
    {
      "cell_type": "code",
      "metadata": {
        "id": "XDvjWZYmzZq7"
      },
      "source": [
        "all_words_neg = sentim_analyzer.all_words([nltk.sentiment.util.mark_negation(doc) for doc in training_docs])\n",
        "all_words_neg"
      ],
      "execution_count": null,
      "outputs": []
    },
    {
      "cell_type": "code",
      "metadata": {
        "id": "u-uVODzzzZq7"
      },
      "source": [
        "unigram_feats = sentim_analyzer.unigram_word_feats(all_words_neg, min_freq=4)\n",
        "sentim_analyzer.add_feat_extractor(nltk.sentiment.util.extract_unigram_feats, unigrams=unigram_feats)"
      ],
      "execution_count": null,
      "outputs": []
    },
    {
      "cell_type": "code",
      "metadata": {
        "id": "u5XQ-GWSzZq7"
      },
      "source": [
        "training_set = sentim_analyzer.apply_features(training_docs)\n",
        "test_set = sentim_analyzer.apply_features(test_docs)"
      ],
      "execution_count": null,
      "outputs": []
    },
    {
      "cell_type": "code",
      "metadata": {
        "id": "G3PniGamzZq8"
      },
      "source": [
        "trainer = NaiveBayesClassifier.train\n",
        "classifier = sentim_analyzer.train(trainer, training_set)\n",
        "for key,value in sorted(sentim_analyzer.evaluate(test_set).items()):\n",
        "     print('{0}: {1}'.format(key, value))"
      ],
      "execution_count": null,
      "outputs": []
    },
    {
      "cell_type": "code",
      "metadata": {
        "id": "2EO2TGJjzZq8"
      },
      "source": [
        "from collections import defaultdict\n",
        "\n",
        "c = defaultdict(int)\n",
        "for x in review_labels:\n",
        "    c[x[1]] += 1\n",
        "\n",
        "plt.bar(c.keys(), c.values())"
      ],
      "execution_count": null,
      "outputs": []
    },
    {
      "cell_type": "markdown",
      "metadata": {
        "id": "WJKuy-0mDzKg"
      },
      "source": [
        "Our results would probably be a lot better if we had more data. In addition to simply grabbing _more_ reviews, it would also help if we had **complete** reviews.\n",
        "\n",
        "Unfortunately, the Yelp API doesn't help us out here. It only gives the first few lines of a review, enough to show in your app, but they want you to redirect your users to Yelp.com to read the whole thing.\n",
        "\n",
        "If only there was a way..."
      ]
    },
    {
      "cell_type": "code",
      "metadata": {
        "id": "UHVDPdhuDxz2"
      },
      "source": [
        "review"
      ],
      "execution_count": null,
      "outputs": []
    },
    {
      "cell_type": "code",
      "metadata": {
        "id": "Piodg-n_Dfml"
      },
      "source": [
        "print(requests.get(review['url']).text)"
      ],
      "execution_count": null,
      "outputs": []
    },
    {
      "cell_type": "code",
      "metadata": {
        "id": "n_4y0yRZE2Bz"
      },
      "source": [
        ""
      ],
      "execution_count": null,
      "outputs": []
    }
  ]
}