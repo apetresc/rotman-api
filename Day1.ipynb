{
  "nbformat": 4,
  "nbformat_minor": 0,
  "metadata": {
    "kernelspec": {
      "name": "python3",
      "display_name": "Python 3.9.2 64-bit ('.venv')",
      "metadata": {
        "interpreter": {
          "hash": "6d872c0088c8ff920d38c53b3841b655b91fa0bec220337f063351cf8640fc50"
        }
      }
    },
    "language_info": {
      "codemirror_mode": {
        "name": "ipython",
        "version": 3
      },
      "file_extension": ".py",
      "mimetype": "text/x-python",
      "name": "python",
      "nbconvert_exporter": "python",
      "pygments_lexer": "ipython3",
      "version": "3.9.2-final"
    },
    "colab": {
      "name": "Day1.ipynb",
      "provenance": [],
      "include_colab_link": true
    }
  },
  "cells": [
    {
      "cell_type": "markdown",
      "metadata": {
        "id": "view-in-github",
        "colab_type": "text"
      },
      "source": [
        "<a href=\"https://colab.research.google.com/github/apetresc/rotman-api/blob/master/Day1.ipynb\" target=\"_parent\"><img src=\"https://colab.research.google.com/assets/colab-badge.svg\" alt=\"Open In Colab\"/></a>"
      ]
    },
    {
      "cell_type": "code",
      "metadata": {
        "id": "1ZeSAFihzZqd"
      },
      "source": [
        "import requests\n",
        "import json\n",
        "\n",
        "import matplotlib.pyplot as plt\n",
        "import numpy as np\n",
        "\n",
        "import random\n",
        "from pprint import pprint"
      ],
      "execution_count": null,
      "outputs": []
    },
    {
      "cell_type": "markdown",
      "metadata": {
        "id": "TtQ-jNnDzZqm"
      },
      "source": [
        "# Making an HTTP request\n",
        "\n",
        "As discussed in the slides"
      ]
    },
    {
      "cell_type": "code",
      "metadata": {
        "id": "Y_txCLpXzZqo"
      },
      "source": [
        "r = requests.get(\"https://pokeapi.co/api/v2/pokemon-species/\")\n",
        "r"
      ],
      "execution_count": null,
      "outputs": []
    },
    {
      "cell_type": "code",
      "metadata": {
        "id": "TAl_tIZYzZqp"
      },
      "source": [
        "r.reason"
      ],
      "execution_count": null,
      "outputs": []
    },
    {
      "cell_type": "code",
      "metadata": {
        "id": "T1uNe-5izZqp"
      },
      "source": [
        "if r.ok:\n",
        "    pprint(r.json())\n",
        "else:\n",
        "    print(r.reason)"
      ],
      "execution_count": null,
      "outputs": []
    },
    {
      "cell_type": "code",
      "metadata": {
        "id": "N2WgeHi9zZqq"
      },
      "source": [
        "r.headers"
      ],
      "execution_count": null,
      "outputs": []
    },
    {
      "cell_type": "markdown",
      "metadata": {
        "id": "td2pq2ohzZqr"
      },
      "source": [
        "# JSON"
      ]
    },
    {
      "cell_type": "code",
      "metadata": {
        "id": "-7DnE7BozZqs"
      },
      "source": [
        "raw_json = \"\"\"\n",
        "{\n",
        "    \"a\": true,\n",
        "    \"b\": {\n",
        "        \"c\": 1,\n",
        "        \"d\": [\n",
        "            {\"x\": 1},\n",
        "            {\"y\": 2}\n",
        "        ]\n",
        "    }\n",
        "}\n",
        "\"\"\""
      ],
      "execution_count": null,
      "outputs": []
    },
    {
      "cell_type": "code",
      "metadata": {
        "id": "UpKUsJpnzZqu"
      },
      "source": [
        "parsed_json = json.loads(raw_json)\n",
        "parsed_json"
      ],
      "execution_count": null,
      "outputs": []
    },
    {
      "cell_type": "code",
      "metadata": {
        "id": "gT6UOTZQzZqw"
      },
      "source": [
        "print(parsed_json[\"a\"])\n",
        "print(parsed_json[\"b\"][\"d\"][0][\"x\"])"
      ],
      "execution_count": null,
      "outputs": []
    },
    {
      "cell_type": "code",
      "metadata": {
        "id": "xfPRrl9kzZqx"
      },
      "source": [
        "json.dumps({\"a\": 1})"
      ],
      "execution_count": null,
      "outputs": []
    },
    {
      "cell_type": "markdown",
      "metadata": {
        "id": "yRZPqnlnzZqy"
      },
      "source": [
        "# Visualizing Results"
      ]
    },
    {
      "cell_type": "code",
      "metadata": {
        "id": "XIcmMIxfzZqz"
      },
      "source": [
        "r = requests.get(\"https://api.coindesk.com/v1/bpi/historical/close.json?start=2012-01-01&end=2019-09-05\")"
      ],
      "execution_count": null,
      "outputs": []
    },
    {
      "cell_type": "code",
      "metadata": {
        "id": "d6E8zJcCzZqz"
      },
      "source": [
        "r.json()"
      ],
      "execution_count": null,
      "outputs": []
    },
    {
      "cell_type": "code",
      "metadata": {
        "id": "FD1GIdkdzZq0"
      },
      "source": [
        "%matplotlib inline\n",
        "\n",
        "x = list(r.json()['bpi'].keys())\n",
        "y = list(r.json()['bpi'].values())"
      ],
      "execution_count": null,
      "outputs": []
    },
    {
      "cell_type": "code",
      "metadata": {
        "id": "Re9Blz_4zZq0"
      },
      "source": [
        "y"
      ],
      "execution_count": null,
      "outputs": []
    },
    {
      "cell_type": "code",
      "metadata": {
        "id": "xgj2ob0szZq0"
      },
      "source": [
        "%matplotlib inline\n",
        "\n",
        "plt.plot(x, y)"
      ],
      "execution_count": null,
      "outputs": []
    },
    {
      "cell_type": "markdown",
      "metadata": {
        "id": "Z1ScT7P2zZq1"
      },
      "source": [
        "# Access Token\n",
        "\n",
        "Go get one of your own from https://github.com/settings/tokens! Don't just steal mine!"
      ]
    },
    {
      "cell_type": "code",
      "metadata": {
        "id": "T97_bQnmzZq1"
      },
      "source": [
        "r = requests.get(\"https://api.github.com/orgs/rubikloud/repos\")\n",
        "[repo['full_name'] for repo in r.json()]"
      ],
      "execution_count": null,
      "outputs": []
    },
    {
      "cell_type": "code",
      "metadata": {
        "id": "j-lrmF9DzZq1"
      },
      "source": [
        "from requests.auth import HTTPBasicAuth\n",
        "\n",
        "GITHUB_TOKEN = \"\"\n",
        "r = requests.get(\"https://api.github.com/orgs/rubikloud/repos\", auth=HTTPBasicAuth(GITHUB_TOKEN, \"\"))\n",
        "if r.ok:\n",
        "    print([repo['full_name'] for repo in r.json()])\n",
        "else:\n",
        "    print(r.status_code, r.reason)"
      ],
      "execution_count": null,
      "outputs": []
    },
    {
      "cell_type": "markdown",
      "metadata": {
        "id": "2VPTed0DzZq2"
      },
      "source": [
        "# Pagination\n",
        "\n",
        "In the result above, we can see that GitHub returned some private repositories, as we expected (try opening them in your browser to check!), but it still only returned a handful of repositories. Where did the rest go?"
      ]
    },
    {
      "cell_type": "code",
      "metadata": {
        "id": "2n2KwzfJzZq2"
      },
      "source": [
        "print(r.headers)"
      ],
      "execution_count": null,
      "outputs": []
    },
    {
      "cell_type": "markdown",
      "metadata": {
        "id": "8S1A8RKxzZq2"
      },
      "source": [
        "Notice those `Link` headers. Those are GitHub's way of telling us about later or earlier pages. What happens if we iterate over them?\n",
        "\n",
        "Well, first we need to parse them..."
      ]
    },
    {
      "cell_type": "code",
      "metadata": {
        "id": "HxGsN3_szZq3"
      },
      "source": [
        "def parse_github_pagination(link_header):\n",
        "    link_header_parts = link_header.split(\", \")\n",
        "    return {\n",
        "        link_header_part.split(\"; \")[1][5:-1]: link_header_part.split(\"; \")[0][1:-1]\n",
        "        for link_header_part in link_header_parts\n",
        "    }\n",
        "\n",
        "parse_github_pagination(r.headers['Link'])"
      ],
      "execution_count": null,
      "outputs": []
    },
    {
      "cell_type": "markdown",
      "metadata": {
        "id": "PpWbmhQ_zZq3"
      },
      "source": [
        "Great. So as long as our response _has_ a `rel=\"next\"` in its `Link` header, we can just keep visiting that page, appending our results together as we go."
      ]
    },
    {
      "cell_type": "code",
      "metadata": {
        "id": "ZPjhj38azZq4"
      },
      "source": [
        "repos = [repo[\"full_name\"] for repo in r.json()]\n",
        "links = parse_github_pagination(r.headers[\"Link\"])\n",
        "while \"next\" in links:\n",
        "    r = requests.get(links[\"next\"], auth=HTTPBasicAuth(GITHUB_TOKEN, \"\"))\n",
        "    links = parse_github_pagination(r.headers[\"Link\"])\n",
        "    repos += [repo[\"full_name\"] for repo in r.json()]\n",
        "\n",
        "repos"
      ],
      "execution_count": null,
      "outputs": []
    },
    {
      "cell_type": "markdown",
      "metadata": {
        "id": "TWHyBpNazZq4"
      },
      "source": [
        "# Mixing them together"
      ]
    },
    {
      "cell_type": "code",
      "metadata": {
        "id": "MoiRepaDzZq4"
      },
      "source": [
        "for repo in repos:\n",
        "    potential_pokemon_name = repo.split('/')[1]\n",
        "    r = requests.get(\"https://pokeapi.co/api/v2/pokemon/%s\" % potential_pokemon_name.lower())\n",
        "    is_pokemon = r.ok\n",
        "    print(\"%s: %s\" % (potential_pokemon_name, is_pokemon))"
      ],
      "execution_count": null,
      "outputs": []
    },
    {
      "cell_type": "markdown",
      "metadata": {
        "id": "i06kVU3PzZq8"
      },
      "source": [
        "# GraphQL"
      ]
    },
    {
      "cell_type": "code",
      "metadata": {
        "id": "5mM9SwMnzZq8"
      },
      "source": [
        "r = requests.post(\"https://api.github.com/graphql\", auth=HTTPBasicAuth(GITHUB_TOKEN, \"\"), json={\"query\": \"\"\"\n",
        "query {\n",
        "  organization(login: \"rubikloud\") {\n",
        "    name\n",
        "    repositories(privacy: PRIVATE, first: 5) {\n",
        "      edges {\n",
        "        node {\n",
        "          name\n",
        "          pullRequests(last: 5) {\n",
        "            edges {\n",
        "              node {\n",
        "                title\n",
        "                url\n",
        "              }\n",
        "            }\n",
        "          }\n",
        "        }\n",
        "      }\n",
        "    }\n",
        "  }\n",
        "}\"\"\"})"
      ],
      "execution_count": null,
      "outputs": []
    },
    {
      "cell_type": "code",
      "metadata": {
        "id": "jrdUry_VzZq8"
      },
      "source": [
        "r.status_code"
      ],
      "execution_count": null,
      "outputs": []
    },
    {
      "cell_type": "code",
      "metadata": {
        "id": "eLIFWDTczZq9"
      },
      "source": [
        "r.json()"
      ],
      "execution_count": null,
      "outputs": []
    },
    {
      "cell_type": "code",
      "metadata": {
        "id": "WvRLU3SjzZq9"
      },
      "source": [
        ""
      ],
      "execution_count": null,
      "outputs": []
    }
  ]
}