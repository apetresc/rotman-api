{
  "nbformat": 4,
  "nbformat_minor": 0,
  "metadata": {
    "colab": {
      "name": "Day 2.ipynb",
      "provenance": [],
      "collapsed_sections": [],
      "authorship_tag": "ABX9TyO3jbh5unSErbdcjT+j6ROd",
      "include_colab_link": true
    },
    "kernelspec": {
      "name": "python3",
      "display_name": "Python 3"
    },
    "language_info": {
      "name": "python"
    }
  },
  "cells": [
    {
      "cell_type": "markdown",
      "metadata": {
        "id": "view-in-github",
        "colab_type": "text"
      },
      "source": [
        "<a href=\"https://colab.research.google.com/github/apetresc/rotman-api/blob/master/Day2.ipynb\" target=\"_parent\"><img src=\"https://colab.research.google.com/assets/colab-badge.svg\" alt=\"Open In Colab\"/></a>"
      ]
    },
    {
      "cell_type": "markdown",
      "metadata": {
        "id": "dfOb6AwAG_Hn"
      },
      "source": [
        "# Breadth-First Traversal\n",
        "\n",
        "Consider the graph below:\n",
        "\n",
        "![directed-cyclic-graph.png](data:image/png;base64,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)\n",
        "\n"
      ]
    },
    {
      "cell_type": "code",
      "metadata": {
        "id": "R_NUM-ABFmcm"
      },
      "source": [
        "def bft(g, root):\n",
        "  seen = set()\n",
        "  q = [root]\n",
        "\n",
        "  while q:\n",
        "    n = q.pop(0)\n",
        "    if n not in seen:\n",
        "      print(n)\n",
        "      seen.add(n)\n",
        "      q += g[n]"
      ],
      "execution_count": null,
      "outputs": []
    },
    {
      "cell_type": "code",
      "metadata": {
        "id": "e1EH7fiXHHyu"
      },
      "source": [
        "GRAPH = {\n",
        "  'A': ['B', 'E'],\n",
        "  'B': ['C', 'D'],\n",
        "  'C': [],\n",
        "  'D': ['A', 'C', 'E'],\n",
        "  'E': [],\n",
        "  'F': ['G'],\n",
        "  'G': ['D']\n",
        "}\n",
        "\n",
        "ROOT_NODE = 'F'"
      ],
      "execution_count": null,
      "outputs": []
    },
    {
      "cell_type": "code",
      "metadata": {
        "id": "y7iOipJWHJel"
      },
      "source": [
        "bft(GRAPH, ROOT_NODE)"
      ],
      "execution_count": null,
      "outputs": []
    },
    {
      "cell_type": "markdown",
      "metadata": {
        "id": "tAhLuQTwHgVN"
      },
      "source": [
        "In our analogy, a website domain is very similar to a graph. Each node is a page, and each edge is a link from one page pointing to another.\n",
        "\n",
        "Usually, when dealing with large sites, we don't have a complete picture of the graph ahead of time (or it may not even exist - most interesting content is dynamic these days). Luckily, breadth-first search doesn't require **global** knowledge of the graph. It just needs a starting point, and a way to extract edges from each page as we visit it. That's exactly what we're prepared to do!"
      ]
    },
    {
      "cell_type": "code",
      "metadata": {
        "id": "0WfOvOrxHLvO"
      },
      "source": [
        "import requests\n",
        "from bs4 import BeautifulSoup\n",
        "import time\n",
        "import urllib.parse as urlparse"
      ],
      "execution_count": null,
      "outputs": []
    },
    {
      "cell_type": "code",
      "metadata": {
        "id": "xUw9WVXvICtM"
      },
      "source": [
        "def get_links(html):\n",
        "  soup = BeautifulSoup(html, 'html.parser')\n",
        "  return [urlparse.urljoin(DOMAIN, a[\"href\"]) for a in soup.find(id=\"content\").find_all('a') if a.get(\"href\") and a[\"href\"].startswith('/')]\n",
        "\n",
        "def visit(url):\n",
        "  html = requests.get(url).content\n",
        "  print(url)\n",
        "  return html\n",
        "\n",
        "def bft(root, max_visits=50):\n",
        "  seen = set()\n",
        "  q = [root]\n",
        "\n",
        "  while q and len(seen) < max_visits:\n",
        "    n = q.pop(0)\n",
        "    if n not in seen:\n",
        "      html = visit(n)\n",
        "      seen.add(n)\n",
        "      q += get_links(html)\n",
        "    time.sleep(1)"
      ],
      "execution_count": null,
      "outputs": []
    },
    {
      "cell_type": "code",
      "metadata": {
        "id": "2j0y6ChBILEe"
      },
      "source": [
        "DOMAIN = \"https://en.wikipedia.org/\"\n",
        "ROOT_NODE = \"https://en.wikipedia.org/wiki/Star_Wars\"\n",
        "\n",
        "bft(ROOT_NODE)"
      ],
      "execution_count": null,
      "outputs": []
    },
    {
      "cell_type": "markdown",
      "metadata": {
        "id": "vgz5LzPgIm48"
      },
      "source": [
        "How can we turn each \"visit\" into something more useful than a plain URL? By simply combining it with the parsing knowledge we gained last time."
      ]
    },
    {
      "cell_type": "code",
      "metadata": {
        "id": "TX6nRGFNIdGH"
      },
      "source": [
        "def visit(url):\n",
        "  html = requests.get(url).content\n",
        "  soup = BeautifulSoup(html, 'html.parser')\n",
        "  print('\\n'.join(p.get_text() for p in soup.find(id=\"content\").find_all('p')))\n",
        "  return html"
      ],
      "execution_count": null,
      "outputs": []
    },
    {
      "cell_type": "code",
      "metadata": {
        "id": "DTZE_-T1JmnC"
      },
      "source": [
        "bft(ROOT_NODE)"
      ],
      "execution_count": null,
      "outputs": []
    },
    {
      "cell_type": "code",
      "metadata": {
        "id": "5OVpDgwFJptj"
      },
      "source": [
        ""
      ],
      "execution_count": null,
      "outputs": []
    }
  ]
}